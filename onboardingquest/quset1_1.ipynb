{
  "nbformat": 4,
  "nbformat_minor": 0,
  "metadata": {
    "colab": {
      "provenance": [],
      "authorship_tag": "ABX9TyN9e80AI7Jm1CFQubMFhwM6",
      "include_colab_link": true
    },
    "kernelspec": {
      "name": "python3",
      "display_name": "Python 3"
    },
    "language_info": {
      "name": "python"
    }
  },
  "cells": [
    {
      "cell_type": "markdown",
      "metadata": {
        "id": "view-in-github",
        "colab_type": "text"
      },
      "source": [
        "<a href=\"https://colab.research.google.com/github/shocoding/aiffel_first/blob/master/onboardingquest/quset1_1.ipynb\" target=\"_parent\"><img src=\"https://colab.research.google.com/assets/colab-badge.svg\" alt=\"Open In Colab\"/></a>"
      ]
    },
    {
      "cell_type": "code",
      "execution_count": 1,
      "metadata": {
        "colab": {
          "base_uri": "https://localhost:8080/"
        },
        "id": "LIxuwo5tcn6J",
        "outputId": "ed0a8528-ff83-470c-8bfa-168797d59598"
      },
      "outputs": [
        {
          "output_type": "stream",
          "name": "stdout",
          "text": [
            "입력값 :토마토\n",
            "출력값:토마토\n",
            "뒤집힌 단어는:토마토\n",
            "입력된 값은 회문입니다\n"
          ]
        }
      ],
      "source": [
        "word = str(input('입력값 :'))\n",
        "reverse_name = \"\"\n",
        "for c in word:\n",
        "  reverse_name = c+ reverse_name\n",
        "print('출력값:'+reverse_name)\n",
        "print('뒤집힌 단어는:' +reverse_name)\n",
        "\n",
        "if reverse_name == word:\n",
        "  print('입력된 값은 회문입니다')\n",
        "else:\n",
        "  print('입력된 값은 회문이 아닙니다')\n"
      ]
    }
  ]
}